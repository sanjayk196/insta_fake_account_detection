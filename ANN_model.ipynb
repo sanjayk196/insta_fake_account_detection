{
 "cells": [
  {
   "cell_type": "code",
   "execution_count": 1,
   "id": "28dafb58",
   "metadata": {},
   "outputs": [],
   "source": [
    "import numpy as np\n",
    "import pandas as pd\n",
    "import matplotlib.pyplot as plt\n",
    "import seaborn as sns\n",
    "import warnings"
   ]
  },
  {
   "cell_type": "code",
   "execution_count": 2,
   "id": "ebc22a5c",
   "metadata": {},
   "outputs": [],
   "source": [
    "%matplotlib inline\n",
    "warnings.filterwarnings('ignore')"
   ]
  },
  {
   "cell_type": "code",
   "execution_count": 3,
   "id": "3876b323",
   "metadata": {},
   "outputs": [],
   "source": [
    "df = pd.read_csv('insta_fake_account_dectection_modified.csv')"
   ]
  },
  {
   "cell_type": "code",
   "execution_count": 4,
   "id": "2e86cd34",
   "metadata": {},
   "outputs": [
    {
     "data": {
      "text/html": [
       "<div>\n",
       "<style scoped>\n",
       "    .dataframe tbody tr th:only-of-type {\n",
       "        vertical-align: middle;\n",
       "    }\n",
       "\n",
       "    .dataframe tbody tr th {\n",
       "        vertical-align: top;\n",
       "    }\n",
       "\n",
       "    .dataframe thead th {\n",
       "        text-align: right;\n",
       "    }\n",
       "</style>\n",
       "<table border=\"1\" class=\"dataframe\">\n",
       "  <thead>\n",
       "    <tr style=\"text-align: right;\">\n",
       "      <th></th>\n",
       "      <th>Unnamed: 0</th>\n",
       "      <th>userFollowerCount</th>\n",
       "      <th>userFollowingCount</th>\n",
       "      <th>userBiographyLength</th>\n",
       "      <th>userMediaCount</th>\n",
       "      <th>userHasProfilPic</th>\n",
       "      <th>userIsPrivate</th>\n",
       "      <th>usernameDigitCount</th>\n",
       "      <th>usernameLength</th>\n",
       "      <th>isFake</th>\n",
       "    </tr>\n",
       "  </thead>\n",
       "  <tbody>\n",
       "    <tr>\n",
       "      <th>0</th>\n",
       "      <td>0</td>\n",
       "      <td>3</td>\n",
       "      <td>76</td>\n",
       "      <td>0</td>\n",
       "      <td>0</td>\n",
       "      <td>1</td>\n",
       "      <td>1</td>\n",
       "      <td>2</td>\n",
       "      <td>12</td>\n",
       "      <td>1</td>\n",
       "    </tr>\n",
       "    <tr>\n",
       "      <th>1</th>\n",
       "      <td>1</td>\n",
       "      <td>152</td>\n",
       "      <td>966</td>\n",
       "      <td>0</td>\n",
       "      <td>6</td>\n",
       "      <td>1</td>\n",
       "      <td>0</td>\n",
       "      <td>0</td>\n",
       "      <td>9</td>\n",
       "      <td>0</td>\n",
       "    </tr>\n",
       "    <tr>\n",
       "      <th>2</th>\n",
       "      <td>2</td>\n",
       "      <td>319</td>\n",
       "      <td>429</td>\n",
       "      <td>0</td>\n",
       "      <td>68</td>\n",
       "      <td>1</td>\n",
       "      <td>1</td>\n",
       "      <td>0</td>\n",
       "      <td>7</td>\n",
       "      <td>0</td>\n",
       "    </tr>\n",
       "    <tr>\n",
       "      <th>3</th>\n",
       "      <td>3</td>\n",
       "      <td>557</td>\n",
       "      <td>703</td>\n",
       "      <td>0</td>\n",
       "      <td>60</td>\n",
       "      <td>1</td>\n",
       "      <td>0</td>\n",
       "      <td>0</td>\n",
       "      <td>11</td>\n",
       "      <td>0</td>\n",
       "    </tr>\n",
       "    <tr>\n",
       "      <th>4</th>\n",
       "      <td>4</td>\n",
       "      <td>695</td>\n",
       "      <td>635</td>\n",
       "      <td>25</td>\n",
       "      <td>21</td>\n",
       "      <td>1</td>\n",
       "      <td>0</td>\n",
       "      <td>0</td>\n",
       "      <td>9</td>\n",
       "      <td>0</td>\n",
       "    </tr>\n",
       "  </tbody>\n",
       "</table>\n",
       "</div>"
      ],
      "text/plain": [
       "   Unnamed: 0  userFollowerCount  userFollowingCount  userBiographyLength  \\\n",
       "0           0                  3                  76                    0   \n",
       "1           1                152                 966                    0   \n",
       "2           2                319                 429                    0   \n",
       "3           3                557                 703                    0   \n",
       "4           4                695                 635                   25   \n",
       "\n",
       "   userMediaCount  userHasProfilPic  userIsPrivate  usernameDigitCount  \\\n",
       "0               0                 1              1                   2   \n",
       "1               6                 1              0                   0   \n",
       "2              68                 1              1                   0   \n",
       "3              60                 1              0                   0   \n",
       "4              21                 1              0                   0   \n",
       "\n",
       "   usernameLength  isFake  \n",
       "0              12       1  \n",
       "1               9       0  \n",
       "2               7       0  \n",
       "3              11       0  \n",
       "4               9       0  "
      ]
     },
     "execution_count": 4,
     "metadata": {},
     "output_type": "execute_result"
    }
   ],
   "source": [
    "df.head()"
   ]
  },
  {
   "cell_type": "code",
   "execution_count": 5,
   "id": "2439ab09",
   "metadata": {},
   "outputs": [
    {
     "data": {
      "text/plain": [
       "(1194, 10)"
      ]
     },
     "execution_count": 5,
     "metadata": {},
     "output_type": "execute_result"
    }
   ],
   "source": [
    "df.shape"
   ]
  },
  {
   "cell_type": "code",
   "execution_count": 6,
   "id": "d48bf22a",
   "metadata": {},
   "outputs": [],
   "source": [
    "df.drop(['Unnamed: 0'],axis=1,inplace=True)"
   ]
  },
  {
   "cell_type": "markdown",
   "id": "125a81e4",
   "metadata": {},
   "source": [
    "## Feature Scaling"
   ]
  },
  {
   "cell_type": "code",
   "execution_count": 7,
   "id": "a2f38bd8",
   "metadata": {},
   "outputs": [
    {
     "data": {
      "text/plain": [
       "Index(['userFollowerCount', 'userFollowingCount', 'userBiographyLength',\n",
       "       'userMediaCount', 'userHasProfilPic', 'userIsPrivate',\n",
       "       'usernameDigitCount', 'usernameLength', 'isFake'],\n",
       "      dtype='object')"
      ]
     },
     "execution_count": 7,
     "metadata": {},
     "output_type": "execute_result"
    }
   ],
   "source": [
    "df.columns"
   ]
  },
  {
   "cell_type": "code",
   "execution_count": 8,
   "id": "27a226ac",
   "metadata": {},
   "outputs": [],
   "source": [
    "columns_to_scale = ['userFollowerCount', 'userFollowingCount', 'userBiographyLength',\n",
    "       'userMediaCount', 'usernameDigitCount', 'usernameLength']"
   ]
  },
  {
   "cell_type": "code",
   "execution_count": 9,
   "id": "2b10956b",
   "metadata": {},
   "outputs": [],
   "source": [
    "from sklearn.preprocessing import MinMaxScaler\n",
    "scaler = MinMaxScaler()\n",
    "df[columns_to_scale] = scaler.fit_transform(df[columns_to_scale])"
   ]
  },
  {
   "cell_type": "code",
   "execution_count": null,
   "id": "8e070bde",
   "metadata": {},
   "outputs": [],
   "source": []
  },
  {
   "cell_type": "code",
   "execution_count": 10,
   "id": "7e8c7951",
   "metadata": {},
   "outputs": [],
   "source": [
    "X = df.drop(['isFake'],axis=1)\n",
    "Y = df['isFake']"
   ]
  },
  {
   "cell_type": "code",
   "execution_count": 11,
   "id": "2efda3f8",
   "metadata": {},
   "outputs": [
    {
     "data": {
      "text/html": [
       "<div>\n",
       "<style scoped>\n",
       "    .dataframe tbody tr th:only-of-type {\n",
       "        vertical-align: middle;\n",
       "    }\n",
       "\n",
       "    .dataframe tbody tr th {\n",
       "        vertical-align: top;\n",
       "    }\n",
       "\n",
       "    .dataframe thead th {\n",
       "        text-align: right;\n",
       "    }\n",
       "</style>\n",
       "<table border=\"1\" class=\"dataframe\">\n",
       "  <thead>\n",
       "    <tr style=\"text-align: right;\">\n",
       "      <th></th>\n",
       "      <th>userFollowerCount</th>\n",
       "      <th>userFollowingCount</th>\n",
       "      <th>userBiographyLength</th>\n",
       "      <th>userMediaCount</th>\n",
       "      <th>userHasProfilPic</th>\n",
       "      <th>userIsPrivate</th>\n",
       "      <th>usernameDigitCount</th>\n",
       "      <th>usernameLength</th>\n",
       "    </tr>\n",
       "  </thead>\n",
       "  <tbody>\n",
       "    <tr>\n",
       "      <th>0</th>\n",
       "      <td>0.000668</td>\n",
       "      <td>0.010137</td>\n",
       "      <td>0.000000</td>\n",
       "      <td>0.000000</td>\n",
       "      <td>1</td>\n",
       "      <td>1</td>\n",
       "      <td>0.2</td>\n",
       "      <td>0.28</td>\n",
       "    </tr>\n",
       "    <tr>\n",
       "      <th>1</th>\n",
       "      <td>0.033838</td>\n",
       "      <td>0.128852</td>\n",
       "      <td>0.000000</td>\n",
       "      <td>0.005671</td>\n",
       "      <td>1</td>\n",
       "      <td>0</td>\n",
       "      <td>0.0</td>\n",
       "      <td>0.16</td>\n",
       "    </tr>\n",
       "    <tr>\n",
       "      <th>2</th>\n",
       "      <td>0.071015</td>\n",
       "      <td>0.057223</td>\n",
       "      <td>0.000000</td>\n",
       "      <td>0.064272</td>\n",
       "      <td>1</td>\n",
       "      <td>1</td>\n",
       "      <td>0.0</td>\n",
       "      <td>0.08</td>\n",
       "    </tr>\n",
       "    <tr>\n",
       "      <th>3</th>\n",
       "      <td>0.123998</td>\n",
       "      <td>0.093771</td>\n",
       "      <td>0.000000</td>\n",
       "      <td>0.056711</td>\n",
       "      <td>1</td>\n",
       "      <td>0</td>\n",
       "      <td>0.0</td>\n",
       "      <td>0.24</td>\n",
       "    </tr>\n",
       "    <tr>\n",
       "      <th>4</th>\n",
       "      <td>0.154720</td>\n",
       "      <td>0.084701</td>\n",
       "      <td>0.166667</td>\n",
       "      <td>0.019849</td>\n",
       "      <td>1</td>\n",
       "      <td>0</td>\n",
       "      <td>0.0</td>\n",
       "      <td>0.16</td>\n",
       "    </tr>\n",
       "  </tbody>\n",
       "</table>\n",
       "</div>"
      ],
      "text/plain": [
       "   userFollowerCount  userFollowingCount  userBiographyLength  userMediaCount  \\\n",
       "0           0.000668            0.010137             0.000000        0.000000   \n",
       "1           0.033838            0.128852             0.000000        0.005671   \n",
       "2           0.071015            0.057223             0.000000        0.064272   \n",
       "3           0.123998            0.093771             0.000000        0.056711   \n",
       "4           0.154720            0.084701             0.166667        0.019849   \n",
       "\n",
       "   userHasProfilPic  userIsPrivate  usernameDigitCount  usernameLength  \n",
       "0                 1              1                 0.2            0.28  \n",
       "1                 1              0                 0.0            0.16  \n",
       "2                 1              1                 0.0            0.08  \n",
       "3                 1              0                 0.0            0.24  \n",
       "4                 1              0                 0.0            0.16  "
      ]
     },
     "execution_count": 11,
     "metadata": {},
     "output_type": "execute_result"
    }
   ],
   "source": [
    "X.head()"
   ]
  },
  {
   "cell_type": "code",
   "execution_count": 12,
   "id": "f1890afa",
   "metadata": {},
   "outputs": [
    {
     "data": {
      "text/plain": [
       "<AxesSubplot:ylabel='isFake'>"
      ]
     },
     "execution_count": 12,
     "metadata": {},
     "output_type": "execute_result"
    },
    {
     "data": {
      "image/png": "[encoded data removed]",
      "text/plain": [
       "<Figure size 432x288 with 1 Axes>"
      ]
     },
     "metadata": {},
     "output_type": "display_data"
    }
   ],
   "source": [
    "Y.value_counts().plot(kind='pie',autopct=\"%.2f\")"
   ]
  },
  {
   "cell_type": "code",
   "execution_count": 13,
   "id": "2cc25d25",
   "metadata": {},
   "outputs": [],
   "source": [
    "from imblearn.over_sampling import SMOTE"
   ]
  },
  {
   "cell_type": "code",
   "execution_count": 14,
   "id": "3a44c8e3",
   "metadata": {},
   "outputs": [
    {
     "data": {
      "text/plain": [
       "((1988, 8), (1988,))"
      ]
     },
     "execution_count": 14,
     "metadata": {},
     "output_type": "execute_result"
    }
   ],
   "source": [
    "smote = SMOTE(sampling_strategy='minority')\n",
    "X,Y = smote.fit_resample(X,Y)\n",
    "X.shape,Y.shape"
   ]
  },
  {
   "cell_type": "code",
   "execution_count": 15,
   "id": "b7d5e43e",
   "metadata": {
    "scrolled": true
   },
   "outputs": [
    {
     "data": {
      "text/plain": [
       "<AxesSubplot:ylabel='isFake'>"
      ]
     },
     "execution_count": 15,
     "metadata": {},
     "output_type": "execute_result"
    },
    {
     "data": {
      "image/png": "[encoded data removed]",
      "text/plain": [
       "<Figure size 432x288 with 1 Axes>"
      ]
     },
     "metadata": {},
     "output_type": "display_data"
    }
   ],
   "source": [
    "Y.value_counts().plot(kind='pie',autopct=\"%.2f\")"
   ]
  },
  {
   "cell_type": "markdown",
   "id": "5de41472",
   "metadata": {},
   "source": [
    "## Train and Test Data"
   ]
  },
  {
   "cell_type": "code",
   "execution_count": 16,
   "id": "6a615047",
   "metadata": {},
   "outputs": [
    {
     "data": {
      "text/plain": [
       "((1391, 8), (597, 8), (1391,), (597,))"
      ]
     },
     "execution_count": 16,
     "metadata": {},
     "output_type": "execute_result"
    }
   ],
   "source": [
    "from sklearn.model_selection import train_test_split\n",
    "x_train,x_test,y_train,y_test = train_test_split(X,Y,test_size=0.3)\n",
    "x_train.shape,x_test.shape,y_train.shape,y_test.shape"
   ]
  },
  {
   "cell_type": "markdown",
   "id": "944a87a5",
   "metadata": {},
   "source": [
    "## ANN model"
   ]
  },
  {
   "cell_type": "code",
   "execution_count": 17,
   "id": "317d0cff",
   "metadata": {},
   "outputs": [],
   "source": [
    "from tensorflow import keras"
   ]
  },
  {
   "cell_type": "code",
   "execution_count": 18,
   "id": "7fa40e67",
   "metadata": {},
   "outputs": [],
   "source": [
    "model = keras.Sequential([\n",
    "    keras.layers.Dense(11,input_shape=(8,),activation='relu'),\n",
    "    keras.layers.Dense(2,activation='softmax'),\n",
    "    \n",
    "])"
   ]
  },
  {
   "cell_type": "code",
   "execution_count": 19,
   "id": "f4099aa2",
   "metadata": {},
   "outputs": [],
   "source": [
    "model.compile(\n",
    "    optimizer='adam',\n",
    "    loss='sparse_categorical_crossentropy',\n",
    "    metrics=['accuracy']\n",
    ")"
   ]
  },
  {
   "cell_type": "code",
   "execution_count": 20,
   "id": "979262a5",
   "metadata": {},
   "outputs": [
    {
     "name": "stdout",
     "output_type": "stream",
     "text": [
      "Epoch 1/100\n",
      "44/44 [==============================] - 0s 2ms/step - loss: 0.7041 - accuracy: 0.5838\n",
      "Epoch 2/100\n",
      "44/44 [==============================] - 0s 2ms/step - loss: 0.6650 - accuracy: 0.6571\n",
      "Epoch 3/100\n",
      "44/44 [==============================] - 0s 2ms/step - loss: 0.6324 - accuracy: 0.6930\n",
      "Epoch 4/100\n",
      "44/44 [==============================] - 0s 2ms/step - loss: 0.5964 - accuracy: 0.7714\n",
      "Epoch 5/100\n",
      "44/44 [==============================] - 0s 1ms/step - loss: 0.5548 - accuracy: 0.8339\n",
      "Epoch 6/100\n",
      "44/44 [==============================] - 0s 1ms/step - loss: 0.5053 - accuracy: 0.8562\n",
      "Epoch 7/100\n",
      "44/44 [==============================] - 0s 1ms/step - loss: 0.4520 - accuracy: 0.8613\n",
      "Epoch 8/100\n",
      "44/44 [==============================] - 0s 2ms/step - loss: 0.4019 - accuracy: 0.8577\n",
      "Epoch 9/100\n",
      "44/44 [==============================] - 0s 2ms/step - loss: 0.3725 - accuracy: 0.8613\n",
      "Epoch 10/100\n",
      "44/44 [==============================] - 0s 2ms/step - loss: 0.3511 - accuracy: 0.8627\n",
      "Epoch 11/100\n",
      "44/44 [==============================] - 0s 2ms/step - loss: 0.3357 - accuracy: 0.8663\n",
      "Epoch 12/100\n",
      "44/44 [==============================] - 0s 2ms/step - loss: 0.3225 - accuracy: 0.8706\n",
      "Epoch 13/100\n",
      "44/44 [==============================] - 0s 2ms/step - loss: 0.3129 - accuracy: 0.8756\n",
      "Epoch 14/100\n",
      "44/44 [==============================] - 0s 2ms/step - loss: 0.3026 - accuracy: 0.8835\n",
      "Epoch 15/100\n",
      "44/44 [==============================] - 0s 2ms/step - loss: 0.2947 - accuracy: 0.8879\n",
      "Epoch 16/100\n",
      "44/44 [==============================] - 0s 2ms/step - loss: 0.2872 - accuracy: 0.8922\n",
      "Epoch 17/100\n",
      "44/44 [==============================] - 0s 2ms/step - loss: 0.2807 - accuracy: 0.8936\n",
      "Epoch 18/100\n",
      "44/44 [==============================] - 0s 2ms/step - loss: 0.2753 - accuracy: 0.8936\n",
      "Epoch 19/100\n",
      "44/44 [==============================] - 0s 2ms/step - loss: 0.2693 - accuracy: 0.8979\n",
      "Epoch 20/100\n",
      "44/44 [==============================] - 0s 2ms/step - loss: 0.2641 - accuracy: 0.8979\n",
      "Epoch 21/100\n",
      "44/44 [==============================] - 0s 2ms/step - loss: 0.2593 - accuracy: 0.8986\n",
      "Epoch 22/100\n",
      "44/44 [==============================] - 0s 2ms/step - loss: 0.2545 - accuracy: 0.9022\n",
      "Epoch 23/100\n",
      "44/44 [==============================] - 0s 1ms/step - loss: 0.2503 - accuracy: 0.9008\n",
      "Epoch 24/100\n",
      "44/44 [==============================] - 0s 2ms/step - loss: 0.2465 - accuracy: 0.9008\n",
      "Epoch 25/100\n",
      "44/44 [==============================] - 0s 1ms/step - loss: 0.2421 - accuracy: 0.9044\n",
      "Epoch 26/100\n",
      "44/44 [==============================] - 0s 1ms/step - loss: 0.2386 - accuracy: 0.9058\n",
      "Epoch 27/100\n",
      "44/44 [==============================] - 0s 1ms/step - loss: 0.2349 - accuracy: 0.9044\n",
      "Epoch 28/100\n",
      "44/44 [==============================] - 0s 1ms/step - loss: 0.2317 - accuracy: 0.9101\n",
      "Epoch 29/100\n",
      "44/44 [==============================] - 0s 2ms/step - loss: 0.2289 - accuracy: 0.9109\n",
      "Epoch 30/100\n",
      "44/44 [==============================] - 0s 2ms/step - loss: 0.2258 - accuracy: 0.9137\n",
      "Epoch 31/100\n",
      "44/44 [==============================] - 0s 2ms/step - loss: 0.2224 - accuracy: 0.9116\n",
      "Epoch 32/100\n",
      "44/44 [==============================] - 0s 2ms/step - loss: 0.2197 - accuracy: 0.9101\n",
      "Epoch 33/100\n",
      "44/44 [==============================] - 0s 2ms/step - loss: 0.2172 - accuracy: 0.9145\n",
      "Epoch 34/100\n",
      "44/44 [==============================] - 0s 2ms/step - loss: 0.2149 - accuracy: 0.9145\n",
      "Epoch 35/100\n",
      "44/44 [==============================] - 0s 2ms/step - loss: 0.2124 - accuracy: 0.9123\n",
      "Epoch 36/100\n",
      "44/44 [==============================] - 0s 2ms/step - loss: 0.2102 - accuracy: 0.9123\n",
      "Epoch 37/100\n",
      "44/44 [==============================] - 0s 2ms/step - loss: 0.2079 - accuracy: 0.9180\n",
      "Epoch 38/100\n",
      "44/44 [==============================] - 0s 2ms/step - loss: 0.2058 - accuracy: 0.9159\n",
      "Epoch 39/100\n",
      "44/44 [==============================] - 0s 2ms/step - loss: 0.2040 - accuracy: 0.9159\n",
      "Epoch 40/100\n",
      "44/44 [==============================] - 0s 2ms/step - loss: 0.2017 - accuracy: 0.9159\n",
      "Epoch 41/100\n",
      "44/44 [==============================] - 0s 2ms/step - loss: 0.2000 - accuracy: 0.9166\n",
      "Epoch 42/100\n",
      "44/44 [==============================] - 0s 2ms/step - loss: 0.1988 - accuracy: 0.9166\n",
      "Epoch 43/100\n",
      "44/44 [==============================] - 0s 2ms/step - loss: 0.1965 - accuracy: 0.9180\n",
      "Epoch 44/100\n",
      "44/44 [==============================] - 0s 3ms/step - loss: 0.1949 - accuracy: 0.9216\n",
      "Epoch 45/100\n",
      "44/44 [==============================] - 0s 2ms/step - loss: 0.1939 - accuracy: 0.9166\n",
      "Epoch 46/100\n",
      "44/44 [==============================] - 0s 2ms/step - loss: 0.1918 - accuracy: 0.9166\n",
      "Epoch 47/100\n",
      "44/44 [==============================] - 0s 1ms/step - loss: 0.1908 - accuracy: 0.9166\n",
      "Epoch 48/100\n",
      "44/44 [==============================] - 0s 2ms/step - loss: 0.1894 - accuracy: 0.9209\n",
      "Epoch 49/100\n",
      "44/44 [==============================] - 0s 2ms/step - loss: 0.1877 - accuracy: 0.9188\n",
      "Epoch 50/100\n",
      "44/44 [==============================] - 0s 2ms/step - loss: 0.1867 - accuracy: 0.9202\n",
      "Epoch 51/100\n",
      "44/44 [==============================] - 0s 2ms/step - loss: 0.1849 - accuracy: 0.9188\n",
      "Epoch 52/100\n",
      "44/44 [==============================] - 0s 2ms/step - loss: 0.1837 - accuracy: 0.9188\n",
      "Epoch 53/100\n",
      "44/44 [==============================] - 0s 2ms/step - loss: 0.1827 - accuracy: 0.9195\n",
      "Epoch 54/100\n",
      "44/44 [==============================] - 0s 1ms/step - loss: 0.1827 - accuracy: 0.9209\n",
      "Epoch 55/100\n",
      "44/44 [==============================] - 0s 2ms/step - loss: 0.1805 - accuracy: 0.9202\n",
      "Epoch 56/100\n",
      "44/44 [==============================] - 0s 1ms/step - loss: 0.1793 - accuracy: 0.9173\n",
      "Epoch 57/100\n",
      "44/44 [==============================] - 0s 1ms/step - loss: 0.1786 - accuracy: 0.9188\n",
      "Epoch 58/100\n",
      "44/44 [==============================] - 0s 1ms/step - loss: 0.1781 - accuracy: 0.9202\n",
      "Epoch 59/100\n",
      "44/44 [==============================] - 0s 1ms/step - loss: 0.1768 - accuracy: 0.9202\n",
      "Epoch 60/100\n",
      "44/44 [==============================] - 0s 1ms/step - loss: 0.1757 - accuracy: 0.9238\n",
      "Epoch 61/100\n",
      "44/44 [==============================] - 0s 2ms/step - loss: 0.1748 - accuracy: 0.9216\n",
      "Epoch 62/100\n",
      "44/44 [==============================] - 0s 2ms/step - loss: 0.1741 - accuracy: 0.9224\n",
      "Epoch 63/100\n",
      "44/44 [==============================] - 0s 2ms/step - loss: 0.1729 - accuracy: 0.9216\n",
      "Epoch 64/100\n",
      "44/44 [==============================] - 0s 1ms/step - loss: 0.1728 - accuracy: 0.9209\n",
      "Epoch 65/100\n",
      "44/44 [==============================] - 0s 2ms/step - loss: 0.1716 - accuracy: 0.9260\n",
      "Epoch 66/100\n",
      "44/44 [==============================] - 0s 2ms/step - loss: 0.1711 - accuracy: 0.9252\n",
      "Epoch 67/100\n",
      "44/44 [==============================] - 0s 2ms/step - loss: 0.1704 - accuracy: 0.9224\n",
      "Epoch 68/100\n",
      "44/44 [==============================] - 0s 2ms/step - loss: 0.1693 - accuracy: 0.9238\n",
      "Epoch 69/100\n",
      "44/44 [==============================] - 0s 2ms/step - loss: 0.1685 - accuracy: 0.9260\n",
      "Epoch 70/100\n",
      "44/44 [==============================] - 0s 1ms/step - loss: 0.1683 - accuracy: 0.9245\n",
      "Epoch 71/100\n",
      "44/44 [==============================] - 0s 1ms/step - loss: 0.1675 - accuracy: 0.9281\n",
      "Epoch 72/100\n",
      "44/44 [==============================] - 0s 1ms/step - loss: 0.1663 - accuracy: 0.9281\n",
      "Epoch 73/100\n",
      "44/44 [==============================] - 0s 1ms/step - loss: 0.1658 - accuracy: 0.9274\n",
      "Epoch 74/100\n",
      "44/44 [==============================] - 0s 1ms/step - loss: 0.1655 - accuracy: 0.9288\n",
      "Epoch 75/100\n",
      "44/44 [==============================] - 0s 2ms/step - loss: 0.1649 - accuracy: 0.9281\n",
      "Epoch 76/100\n",
      "44/44 [==============================] - 0s 2ms/step - loss: 0.1641 - accuracy: 0.9288\n",
      "Epoch 77/100\n",
      "44/44 [==============================] - 0s 2ms/step - loss: 0.1640 - accuracy: 0.9288\n",
      "Epoch 78/100\n",
      "44/44 [==============================] - 0s 1ms/step - loss: 0.1627 - accuracy: 0.9281\n",
      "Epoch 79/100\n",
      "44/44 [==============================] - 0s 2ms/step - loss: 0.1624 - accuracy: 0.9295\n",
      "Epoch 80/100\n",
      "44/44 [==============================] - 0s 2ms/step - loss: 0.1613 - accuracy: 0.9317\n",
      "Epoch 81/100\n",
      "44/44 [==============================] - 0s 2ms/step - loss: 0.1606 - accuracy: 0.9324\n",
      "Epoch 82/100\n",
      "44/44 [==============================] - 0s 2ms/step - loss: 0.1601 - accuracy: 0.9310\n",
      "Epoch 83/100\n"
     ]
    },
    {
     "name": "stdout",
     "output_type": "stream",
     "text": [
      "44/44 [==============================] - 0s 3ms/step - loss: 0.1598 - accuracy: 0.9310\n",
      "Epoch 84/100\n",
      "44/44 [==============================] - 0s 2ms/step - loss: 0.1587 - accuracy: 0.9317\n",
      "Epoch 85/100\n",
      "44/44 [==============================] - 0s 3ms/step - loss: 0.1588 - accuracy: 0.9331\n",
      "Epoch 86/100\n",
      "44/44 [==============================] - 0s 2ms/step - loss: 0.1584 - accuracy: 0.9317\n",
      "Epoch 87/100\n",
      "44/44 [==============================] - 0s 1ms/step - loss: 0.1574 - accuracy: 0.9317\n",
      "Epoch 88/100\n",
      "44/44 [==============================] - 0s 1ms/step - loss: 0.1569 - accuracy: 0.9331\n",
      "Epoch 89/100\n",
      "44/44 [==============================] - 0s 1ms/step - loss: 0.1570 - accuracy: 0.9317\n",
      "Epoch 90/100\n",
      "44/44 [==============================] - 0s 1ms/step - loss: 0.1561 - accuracy: 0.9346\n",
      "Epoch 91/100\n",
      "44/44 [==============================] - 0s 1ms/step - loss: 0.1557 - accuracy: 0.9324\n",
      "Epoch 92/100\n",
      "44/44 [==============================] - 0s 1ms/step - loss: 0.1551 - accuracy: 0.9389\n",
      "Epoch 93/100\n",
      "44/44 [==============================] - 0s 1ms/step - loss: 0.1546 - accuracy: 0.9389\n",
      "Epoch 94/100\n",
      "44/44 [==============================] - 0s 1ms/step - loss: 0.1548 - accuracy: 0.9382\n",
      "Epoch 95/100\n",
      "44/44 [==============================] - 0s 1ms/step - loss: 0.1537 - accuracy: 0.9382\n",
      "Epoch 96/100\n",
      "44/44 [==============================] - 0s 1ms/step - loss: 0.1535 - accuracy: 0.9353\n",
      "Epoch 97/100\n",
      "44/44 [==============================] - 0s 1ms/step - loss: 0.1529 - accuracy: 0.9418\n",
      "Epoch 98/100\n",
      "44/44 [==============================] - 0s 1ms/step - loss: 0.1528 - accuracy: 0.9418\n",
      "Epoch 99/100\n",
      "44/44 [==============================] - 0s 1ms/step - loss: 0.1520 - accuracy: 0.9375\n",
      "Epoch 100/100\n",
      "44/44 [==============================] - 0s 1ms/step - loss: 0.1524 - accuracy: 0.9446\n"
     ]
    },
    {
     "data": {
      "text/plain": [
       "<keras.callbacks.History at 0x1e89d56ea90>"
      ]
     },
     "execution_count": 20,
     "metadata": {},
     "output_type": "execute_result"
    }
   ],
   "source": [
    "model.fit(x_train,y_train,epochs=100)"
   ]
  },
  {
   "cell_type": "code",
   "execution_count": 21,
   "id": "c9bbc3e7",
   "metadata": {},
   "outputs": [
    {
     "name": "stdout",
     "output_type": "stream",
     "text": [
      "19/19 [==============================] - 0s 2ms/step - loss: 0.1406 - accuracy: 0.9464\n"
     ]
    },
    {
     "data": {
      "text/plain": [
       "[0.14055009186267853, 0.9463986754417419]"
      ]
     },
     "execution_count": 21,
     "metadata": {},
     "output_type": "execute_result"
    }
   ],
   "source": [
    "model.evaluate(x_test,y_test)"
   ]
  },
  {
   "cell_type": "code",
   "execution_count": 22,
   "id": "c1c5c618",
   "metadata": {},
   "outputs": [],
   "source": [
    "from sklearn.metrics import confusion_matrix, classification_report"
   ]
  },
  {
   "cell_type": "code",
   "execution_count": 23,
   "id": "acf717b9",
   "metadata": {},
   "outputs": [
    {
     "name": "stdout",
     "output_type": "stream",
     "text": [
      "19/19 [==============================] - 0s 1ms/step\n"
     ]
    }
   ],
   "source": [
    "y_test_predict = [np.argmax(i) for i in model.predict(x_test)]\n",
    "y_test_cm = confusion_matrix(y_test,y_test_predict)"
   ]
  },
  {
   "cell_type": "code",
   "execution_count": 24,
   "id": "c9f99e06",
   "metadata": {},
   "outputs": [
    {
     "data": {
      "image/png": "[encoded data removed]",
      "text/plain": [
       "<Figure size 504x504 with 2 Axes>"
      ]
     },
     "metadata": {
      "needs_background": "light"
     },
     "output_type": "display_data"
    }
   ],
   "source": [
    "plt.figure(figsize=(7,7))\n",
    "sns.heatmap(y_test_cm,annot=True,fmt='g',xticklabels=['Not Fake','Fake Account'],yticklabels=['Not Fake','Fake Account'])\n",
    "plt.show()\n"
   ]
  },
  {
   "cell_type": "code",
   "execution_count": 25,
   "id": "59b61116",
   "metadata": {},
   "outputs": [
    {
     "name": "stdout",
     "output_type": "stream",
     "text": [
      "              precision    recall  f1-score   support\n",
      "\n",
      "           0       0.95      0.94      0.95       296\n",
      "           1       0.94      0.95      0.95       301\n",
      "\n",
      "    accuracy                           0.95       597\n",
      "   macro avg       0.95      0.95      0.95       597\n",
      "weighted avg       0.95      0.95      0.95       597\n",
      "\n"
     ]
    }
   ],
   "source": [
    "print(classification_report(y_test,y_test_predict))\n"
   ]
  },
  {
   "cell_type": "code",
   "execution_count": null,
   "id": "a3ef03a2",
   "metadata": {},
   "outputs": [],
   "source": []
  }
 ],
 "metadata": {
  "kernelspec": {
   "display_name": "Python 3 (ipykernel)",
   "language": "python",
   "name": "python3"
  },
  "language_info": {
   "codemirror_mode": {
    "name": "ipython",
    "version": 3
   },
   "file_extension": ".py",
   "mimetype": "text/x-python",
   "name": "python",
   "nbconvert_exporter": "python",
   "pygments_lexer": "ipython3",
   "version": "3.9.7"
  }
 },
 "nbformat": 4,
 "nbformat_minor": 5
}
